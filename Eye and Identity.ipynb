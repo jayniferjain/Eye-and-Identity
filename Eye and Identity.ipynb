{
 "cells": [
  {
   "cell_type": "code",
   "execution_count": null,
   "metadata": {},
   "outputs": [],
   "source": [
    "n,m = map(int,input().split())\n",
    "a = []\n",
    "\n",
    "for i in range(n):\n",
    "    b = []\n",
    "    for j in range(m):\n",
    "        if i==j:\n",
    "            b.append(' 1.')\n",
    "        elif i!=j:\n",
    "            b.append(' 0.')\n",
    "    a.append(b)\n",
    "\n",
    "for i in range(n):\n",
    "    if i == 0:\n",
    "        print(\"[[\",end=\"\")\n",
    "    for j  in range(m):\n",
    "        if j==0 and i!=0:\n",
    "            print(\" [\",end=\"\")\n",
    "        if j == m-1:\n",
    "            print(a[i][j],end=\"\")\n",
    "        elif j!=m-1:\n",
    "            print(a[i][j],end=\" \")\n",
    "        \n",
    "        if j==m-1:\n",
    "            print(\"]\",end=\"\")\n",
    "    if i == n-1:\n",
    "        print(\"]\",end=\"\")\n",
    "    print()"
   ]
  }
 ],
 "metadata": {
  "kernelspec": {
   "display_name": "Python 3",
   "language": "python",
   "name": "python3"
  },
  "language_info": {
   "codemirror_mode": {
    "name": "ipython",
    "version": 3
   },
   "file_extension": ".py",
   "mimetype": "text/x-python",
   "name": "python",
   "nbconvert_exporter": "python",
   "pygments_lexer": "ipython3",
   "version": "3.7.0"
  }
 },
 "nbformat": 4,
 "nbformat_minor": 4
}
